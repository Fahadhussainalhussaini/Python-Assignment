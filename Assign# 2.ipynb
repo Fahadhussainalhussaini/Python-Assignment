{
 "cells": [
  {
   "cell_type": "code",
   "execution_count": 1,
   "metadata": {},
   "outputs": [
    {
     "name": "stdout",
     "output_type": "stream",
     "text": [
      "Enter percentage(%) you've got in examination: 93\n",
      "Grade: A+\n"
     ]
    }
   ],
   "source": [
    "perc=int(input(\"Enter percentage(%) you've got in examination: \"))\n",
    "if perc<=100:\n",
    "    if perc<=100 and perc>=80:\n",
    "        print(\"Grade: A+\")\n",
    "    elif perc<80 and perc>=70:\n",
    "        print(\"Grade: A\")\n",
    "    elif perc<70 and perc>=60:\n",
    "        print(\"Grade: B\")\n",
    "    elif perc<60 and perc>=50:\n",
    "        print(\"Grade: C\")\n",
    "    elif perc<50 and perc>=40:\n",
    "        print(\"Grade: E\")\n",
    "    else:\n",
    "        print(\"Grade: F (means fail!)\")\n",
    "else:\n",
    "        print(\"You've given a non-valid percentage(%)! Please try again.\")"
   ]
  },
  {
   "cell_type": "code",
   "execution_count": null,
   "metadata": {},
   "outputs": [],
   "source": []
  }
 ],
 "metadata": {
  "kernelspec": {
   "display_name": "Python 3",
   "language": "python",
   "name": "python3"
  },
  "language_info": {
   "codemirror_mode": {
    "name": "ipython",
    "version": 3
   },
   "file_extension": ".py",
   "mimetype": "text/x-python",
   "name": "python",
   "nbconvert_exporter": "python",
   "pygments_lexer": "ipython3",
   "version": "3.7.4"
  }
 },
 "nbformat": 4,
 "nbformat_minor": 2
}
